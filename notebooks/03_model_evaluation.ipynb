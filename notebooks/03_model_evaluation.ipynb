{
 "cells": [
  {
   "cell_type": "markdown",
   "id": "3c01261a-56de-4a06-9c33-90105c8a7238",
   "metadata": {},
   "source": [
    "# Model Evaluation & Explainability Setup\n",
    "\n",
    "This notebook evaluates the fine-tuned LoRA-adapted RoBERTa model across multiple news datasets and exports explainability-ready samples (for SHAP/LIME).\n",
    "It integrates quantitative metrics, confusion matrices, ROC curves, and qualitative error inspection."
   ]
  },
  {
   "cell_type": "code",
   "execution_count": 1,
   "id": "50156409-5bca-4b5a-a392-974d0b555f8d",
   "metadata": {},
   "outputs": [
    {
     "name": "stderr",
     "output_type": "stream",
     "text": [
      "Some weights of RobertaForSequenceClassification were not initialized from the model checkpoint at roberta-base and are newly initialized: ['classifier.dense.bias', 'classifier.dense.weight', 'classifier.out_proj.bias', 'classifier.out_proj.weight']\n",
      "You should probably TRAIN this model on a down-stream task to be able to use it for predictions and inference.\n"
     ]
    },
    {
     "name": "stdout",
     "output_type": "stream",
     "text": [
      "Loaded best model checkpoint from: /gpfs/home/ashwin/FakeNews-Detection/models/roberta_lora_multidomain_best\n"
     ]
    }
   ],
   "source": [
    "import os, sys, json, torch, numpy as np, pandas as pd, seaborn as sns, matplotlib.pyplot as plt\n",
    "from tqdm.auto import tqdm\n",
    "from sklearn.metrics import classification_report, confusion_matrix, roc_curve, auc\n",
    "from transformers import AutoTokenizer, AutoModelForSequenceClassification\n",
    "\n",
    "sys.path.append(os.path.abspath(os.path.join(os.getcwd(), \"..\")))\n",
    "\n",
    "BASE_DIR  = os.path.abspath(os.path.join(os.getcwd(), \"..\"))\n",
    "DATA_DIR  = os.path.join(BASE_DIR, \"data\", \"processed\")\n",
    "MODEL_DIR = os.path.join(BASE_DIR, \"models\")\n",
    "\n",
    "MODEL_BEST = next((d for d in os.listdir(MODEL_DIR) if \"multidomain_best\" in d), None)\n",
    "if MODEL_BEST is None:\n",
    "    raise FileNotFoundError(\"No model folder containing 'multidomain_best' found in models/\")\n",
    "\n",
    "CKPT_PATH  = os.path.join(MODEL_DIR, MODEL_BEST)\n",
    "\n",
    "device = torch.device(\"cuda\" if torch.cuda.is_available() else \"cpu\")\n",
    "\n",
    "tokenizer = AutoTokenizer.from_pretrained(CKPT_PATH)\n",
    "model = AutoModelForSequenceClassification.from_pretrained(CKPT_PATH).to(device)\n",
    "model.eval()\n",
    "\n",
    "print(f\"Loaded best model checkpoint from: {CKPT_PATH}\")"
   ]
  },
  {
   "cell_type": "markdown",
   "id": "8090cf2a-9e75-41f8-a090-9a8a6110269c",
   "metadata": {},
   "source": [
    "## Step 1 — Load Processed Datasets"
   ]
  },
  {
   "cell_type": "code",
   "execution_count": 2,
   "id": "ad555d97-a740-47ac-b2e4-25e270968395",
   "metadata": {},
   "outputs": [
    {
     "name": "stdout",
     "output_type": "stream",
     "text": [
      "LIAR → (12791, 3), FakeNews → (44898, 3)\n"
     ]
    },
    {
     "data": {
      "text/html": [
       "<div>\n",
       "<style scoped>\n",
       "    .dataframe tbody tr th:only-of-type {\n",
       "        vertical-align: middle;\n",
       "    }\n",
       "\n",
       "    .dataframe tbody tr th {\n",
       "        vertical-align: top;\n",
       "    }\n",
       "\n",
       "    .dataframe thead th {\n",
       "        text-align: right;\n",
       "    }\n",
       "</style>\n",
       "<table border=\"1\" class=\"dataframe\">\n",
       "  <thead>\n",
       "    <tr style=\"text-align: right;\">\n",
       "      <th></th>\n",
       "      <th>title</th>\n",
       "      <th>text</th>\n",
       "      <th>label</th>\n",
       "    </tr>\n",
       "  </thead>\n",
       "  <tbody>\n",
       "    <tr>\n",
       "      <th>0</th>\n",
       "      <td>abortion</td>\n",
       "      <td>Says the Annies List political group supports ...</td>\n",
       "      <td>1</td>\n",
       "    </tr>\n",
       "    <tr>\n",
       "      <th>1</th>\n",
       "      <td>energy,history,job-accomplishments</td>\n",
       "      <td>When did the decline of coal start? It started...</td>\n",
       "      <td>0</td>\n",
       "    </tr>\n",
       "  </tbody>\n",
       "</table>\n",
       "</div>"
      ],
      "text/plain": [
       "                                title  \\\n",
       "0                            abortion   \n",
       "1  energy,history,job-accomplishments   \n",
       "\n",
       "                                                text  label  \n",
       "0  Says the Annies List political group supports ...      1  \n",
       "1  When did the decline of coal start? It started...      0  "
      ]
     },
     "metadata": {},
     "output_type": "display_data"
    }
   ],
   "source": [
    "liar_path = os.path.join(DATA_DIR, \"processed_LIAR.csv\")\n",
    "fake_path = os.path.join(DATA_DIR, \"processed_FakeNews.csv\")\n",
    "\n",
    "df_liar = pd.read_csv(liar_path)\n",
    "df_fake = pd.read_csv(fake_path)\n",
    "\n",
    "print(f\"LIAR → {df_liar.shape}, FakeNews → {df_fake.shape}\")\n",
    "display(df_liar.head(2))"
   ]
  },
  {
   "cell_type": "markdown",
   "id": "71e536bf-3f13-43a2-8131-7f51191bc232",
   "metadata": {},
   "source": [
    "## Step 2 — Dataset Preparation"
   ]
  },
  {
   "cell_type": "code",
   "execution_count": 3,
   "id": "0feca934-cd62-4319-9921-67c369f53a2b",
   "metadata": {},
   "outputs": [],
   "source": [
    "from torch.utils.data import Dataset, DataLoader\n",
    "\n",
    "class EvalDataset(Dataset):\n",
    "    def __init__(self, df, tokenizer, max_len=256):\n",
    "        self.texts  = df[\"text\"].astype(str).tolist()\n",
    "        self.labels = df[\"label\"].astype(int).tolist()\n",
    "        self.tokenizer = tokenizer\n",
    "        self.max_len = max_len\n",
    "\n",
    "    def __getitem__(self, idx):\n",
    "        enc = self.tokenizer(\n",
    "            self.texts[idx],\n",
    "            truncation=True,\n",
    "            padding=\"max_length\",\n",
    "            max_length=self.max_len,\n",
    "            return_tensors=\"pt\"\n",
    "        )\n",
    "        return {\n",
    "            \"input_ids\": enc[\"input_ids\"].squeeze(),\n",
    "            \"attention_mask\": enc[\"attention_mask\"].squeeze(),\n",
    "            \"labels\": torch.tensor(self.labels[idx])\n",
    "        }\n",
    "\n",
    "    def __len__(self):\n",
    "        return len(self.texts)\n",
    "\n",
    "# Create loaders\n",
    "test_liar = DataLoader(EvalDataset(df_liar, tokenizer), batch_size=32, shuffle=False)\n",
    "test_fake = DataLoader(EvalDataset(df_fake, tokenizer), batch_size=32, shuffle=False)"
   ]
  },
  {
   "cell_type": "markdown",
   "id": "4524a7fe-8b22-458b-bd05-039d87474394",
   "metadata": {},
   "source": [
    "## Step 3 — Evaluation Routine"
   ]
  },
  {
   "cell_type": "code",
   "execution_count": 4,
   "id": "96263e95-1cf8-49b2-9af3-01521e50c055",
   "metadata": {},
   "outputs": [],
   "source": [
    "@torch.no_grad()\n",
    "def evaluate_dataset(model, dataloader, name=\"Dataset\"):\n",
    "    preds, trues, probs = [], [], []\n",
    "    model.eval()\n",
    "\n",
    "    for batch in tqdm(dataloader, desc=f\"Evaluating on {name}\"):\n",
    "        batch = {k: v.to(device) for k, v in batch.items()}\n",
    "        outputs = model(**batch)\n",
    "        logits = outputs.logits\n",
    "        preds.extend(torch.argmax(logits, dim=-1).cpu().numpy())\n",
    "        trues.extend(batch[\"labels\"].cpu().numpy())\n",
    "        probs.extend(torch.softmax(logits, dim=-1)[:, 1].cpu().numpy())\n",
    "\n",
    "    report = classification_report(trues, preds, output_dict=True, zero_division=0)\n",
    "    return np.array(trues), np.array(preds), np.array(probs), report"
   ]
  },
  {
   "cell_type": "markdown",
   "id": "eada2b90-0aa3-484d-9363-8480fcf9d551",
   "metadata": {},
   "source": [
    "## Step 4 — Execute Evaluation"
   ]
  },
  {
   "cell_type": "code",
   "execution_count": 5,
   "id": "9f8d4a56-50c1-4882-8763-60551803fa08",
   "metadata": {},
   "outputs": [
    {
     "data": {
      "application/vnd.jupyter.widget-view+json": {
       "model_id": "dcf5ba128f8242cb8de4c4be85854927",
       "version_major": 2,
       "version_minor": 0
      },
      "text/plain": [
       "Evaluating on LIAR:   0%|          | 0/400 [00:00<?, ?it/s]"
      ]
     },
     "metadata": {},
     "output_type": "display_data"
    },
    {
     "data": {
      "application/vnd.jupyter.widget-view+json": {
       "model_id": "d033120007c74d008272a0136daf2a54",
       "version_major": 2,
       "version_minor": 0
      },
      "text/plain": [
       "Evaluating on FakeNews:   0%|          | 0/1404 [00:00<?, ?it/s]"
      ]
     },
     "metadata": {},
     "output_type": "display_data"
    }
   ],
   "source": [
    "datasets = {\"LIAR\": test_liar, \"FakeNews\": test_fake}\n",
    "reports = {}\n",
    "\n",
    "for name, loader in datasets.items():\n",
    "    y_true, y_pred, y_prob, report = evaluate_dataset(model, loader, name)\n",
    "    reports[name] = {\n",
    "        \"y_true\": y_true,\n",
    "        \"y_pred\": y_pred,\n",
    "        \"y_prob\": y_prob,\n",
    "        \"report\": report\n",
    "    }"
   ]
  },
  {
   "cell_type": "markdown",
   "id": "5b2a98bf-c8dc-4a43-9acb-48757c708ec6",
   "metadata": {},
   "source": [
    "## Step 5 — Aggregate Metrics"
   ]
  },
  {
   "cell_type": "code",
   "execution_count": 6,
   "id": "2973f42d-c941-4662-ace9-0abbd3eeb36c",
   "metadata": {},
   "outputs": [
    {
     "data": {
      "text/html": [
       "<div>\n",
       "<style scoped>\n",
       "    .dataframe tbody tr th:only-of-type {\n",
       "        vertical-align: middle;\n",
       "    }\n",
       "\n",
       "    .dataframe tbody tr th {\n",
       "        vertical-align: top;\n",
       "    }\n",
       "\n",
       "    .dataframe thead th {\n",
       "        text-align: right;\n",
       "    }\n",
       "</style>\n",
       "<table border=\"1\" class=\"dataframe\">\n",
       "  <thead>\n",
       "    <tr style=\"text-align: right;\">\n",
       "      <th></th>\n",
       "      <th>Dataset</th>\n",
       "      <th>Accuracy</th>\n",
       "      <th>Precision</th>\n",
       "      <th>Recall</th>\n",
       "      <th>F1</th>\n",
       "    </tr>\n",
       "  </thead>\n",
       "  <tbody>\n",
       "    <tr>\n",
       "      <th>0</th>\n",
       "      <td>LIAR</td>\n",
       "      <td>0.443124</td>\n",
       "      <td>0.753502</td>\n",
       "      <td>0.443124</td>\n",
       "      <td>0.273116</td>\n",
       "    </tr>\n",
       "    <tr>\n",
       "      <th>1</th>\n",
       "      <td>FakeNews</td>\n",
       "      <td>0.772885</td>\n",
       "      <td>0.845835</td>\n",
       "      <td>0.772885</td>\n",
       "      <td>0.763264</td>\n",
       "    </tr>\n",
       "  </tbody>\n",
       "</table>\n",
       "</div>"
      ],
      "text/plain": [
       "    Dataset  Accuracy  Precision    Recall        F1\n",
       "0      LIAR  0.443124   0.753502  0.443124  0.273116\n",
       "1  FakeNews  0.772885   0.845835  0.772885  0.763264"
      ]
     },
     "metadata": {},
     "output_type": "display_data"
    },
    {
     "name": "stdout",
     "output_type": "stream",
     "text": [
      "Saved summary → /gpfs/home/ashwin/FakeNews-Detection/models/roberta_lora_multidomain_evaluation_summary.csv\n"
     ]
    }
   ],
   "source": [
    "summary = []\n",
    "for name, d in reports.items():\n",
    "    weighted = d[\"report\"][\"weighted avg\"]\n",
    "    summary.append({\n",
    "        \"Dataset\": name,\n",
    "        \"Accuracy\": d[\"report\"][\"accuracy\"],\n",
    "        \"Precision\": weighted[\"precision\"],\n",
    "        \"Recall\": weighted[\"recall\"],\n",
    "        \"F1\": weighted[\"f1-score\"]\n",
    "    })\n",
    "\n",
    "summary_df = pd.DataFrame(summary)\n",
    "display(summary_df)\n",
    "\n",
    "summary_path = os.path.join(MODEL_DIR, \"roberta_lora_multidomain_evaluation_summary.csv\")\n",
    "summary_df.to_csv(summary_path, index=False)\n",
    "print(f\"Saved summary → {summary_path}\")"
   ]
  },
  {
   "cell_type": "markdown",
   "id": "789104bc-fd5d-4e42-8df2-4b6225a9aa12",
   "metadata": {},
   "source": [
    "## Step 6 — Confusion Matrix and ROC"
   ]
  },
  {
   "cell_type": "code",
   "execution_count": 7,
   "id": "f4d91d77-3005-4c91-b82e-ae13a9eb6040",
   "metadata": {},
   "outputs": [
    {
     "data": {
      "image/png": "[encoded data removed]",
      "text/plain": [
       "<Figure size 640x480 with 1 Axes>"
      ]
     },
     "metadata": {},
     "output_type": "display_data"
    },
    {
     "data": {
      "image/png": "[encoded data removed]",
      "text/plain": [
       "<Figure size 640x480 with 1 Axes>"
      ]
     },
     "metadata": {},
     "output_type": "display_data"
    },
    {
     "data": {
      "image/png": "[encoded data removed]",
      "text/plain": [
       "<Figure size 640x480 with 1 Axes>"
      ]
     },
     "metadata": {},
     "output_type": "display_data"
    },
    {
     "data": {
      "image/png": "[encoded data removed]",
      "text/plain": [
       "<Figure size 640x480 with 1 Axes>"
      ]
     },
     "metadata": {},
     "output_type": "display_data"
    }
   ],
   "source": [
    "def plot_confusion(y_true, y_pred, title):\n",
    "    cm = confusion_matrix(y_true, y_pred)\n",
    "    sns.heatmap(cm, annot=True, fmt=\"d\", cmap=\"Blues\", cbar=False)\n",
    "    plt.title(f\"{title} — Confusion Matrix\")\n",
    "    plt.xlabel(\"Predicted\"); plt.ylabel(\"True\")\n",
    "    plt.show()\n",
    "\n",
    "def plot_roc(y_true, y_prob, title):\n",
    "    fpr, tpr, _ = roc_curve(y_true, y_prob)\n",
    "    roc_auc = auc(fpr, tpr)\n",
    "    plt.plot(fpr, tpr, label=f\"AUC = {roc_auc:.3f}\")\n",
    "    plt.plot([0,1],[0,1],\"r--\")\n",
    "    plt.title(f\"{title} — ROC Curve\")\n",
    "    plt.xlabel(\"False Positive Rate\"); plt.ylabel(\"True Positive Rate\")\n",
    "    plt.legend(); plt.show()\n",
    "\n",
    "for name, d in reports.items():\n",
    "    plot_confusion(d[\"y_true\"], d[\"y_pred\"], name)\n",
    "    plot_roc(d[\"y_true\"], d[\"y_prob\"], name)"
   ]
  },
  {
   "cell_type": "markdown",
   "id": "4b11d0e3-a7f2-4e7e-8920-b9bae9e16307",
   "metadata": {},
   "source": [
    "## Step 7 — Error Inspection"
   ]
  },
  {
   "cell_type": "code",
   "execution_count": 8,
   "id": "7e96059f-297f-435c-8dee-cf5045134058",
   "metadata": {},
   "outputs": [
    {
     "data": {
      "text/html": [
       "<div>\n",
       "<style scoped>\n",
       "    .dataframe tbody tr th:only-of-type {\n",
       "        vertical-align: middle;\n",
       "    }\n",
       "\n",
       "    .dataframe tbody tr th {\n",
       "        vertical-align: top;\n",
       "    }\n",
       "\n",
       "    .dataframe thead th {\n",
       "        text-align: right;\n",
       "    }\n",
       "</style>\n",
       "<table border=\"1\" class=\"dataframe\">\n",
       "  <thead>\n",
       "    <tr style=\"text-align: right;\">\n",
       "      <th></th>\n",
       "      <th>text</th>\n",
       "      <th>label</th>\n",
       "      <th>predicted</th>\n",
       "    </tr>\n",
       "  </thead>\n",
       "  <tbody>\n",
       "    <tr>\n",
       "      <th>6424</th>\n",
       "      <td>In the last six years of Ciancis administratio...</td>\n",
       "      <td>0</td>\n",
       "      <td>1</td>\n",
       "    </tr>\n",
       "    <tr>\n",
       "      <th>3670</th>\n",
       "      <td>Obamacare was patterned after (Mitt Romneys) p...</td>\n",
       "      <td>0</td>\n",
       "      <td>1</td>\n",
       "    </tr>\n",
       "    <tr>\n",
       "      <th>2822</th>\n",
       "      <td>In Wisconsin, only half of all the adults with...</td>\n",
       "      <td>0</td>\n",
       "      <td>1</td>\n",
       "    </tr>\n",
       "    <tr>\n",
       "      <th>7597</th>\n",
       "      <td>Thirty-one percent of school districts are sti...</td>\n",
       "      <td>0</td>\n",
       "      <td>1</td>\n",
       "    </tr>\n",
       "    <tr>\n",
       "      <th>11404</th>\n",
       "      <td>After losing 750,000 jobs a month before this ...</td>\n",
       "      <td>0</td>\n",
       "      <td>1</td>\n",
       "    </tr>\n",
       "  </tbody>\n",
       "</table>\n",
       "</div>"
      ],
      "text/plain": [
       "                                                    text  label  predicted\n",
       "6424   In the last six years of Ciancis administratio...      0          1\n",
       "3670   Obamacare was patterned after (Mitt Romneys) p...      0          1\n",
       "2822   In Wisconsin, only half of all the adults with...      0          1\n",
       "7597   Thirty-one percent of school districts are sti...      0          1\n",
       "11404  After losing 750,000 jobs a month before this ...      0          1"
      ]
     },
     "metadata": {},
     "output_type": "display_data"
    }
   ],
   "source": [
    "def sample_misclassified(df, y_true, y_pred, n=8):\n",
    "    df_eval = df.copy()\n",
    "    df_eval[\"predicted\"] = y_pred\n",
    "    df_eval[\"correct\"] = df_eval[\"predicted\"] == y_true\n",
    "    errors = df_eval[~df_eval[\"correct\"]].sample(n=n, random_state=42)\n",
    "    return errors[[\"text\", \"label\", \"predicted\"]]\n",
    "\n",
    "mis_liar = sample_misclassified(df_liar, reports[\"LIAR\"][\"y_true\"], reports[\"LIAR\"][\"y_pred\"])\n",
    "mis_fake = sample_misclassified(df_fake, reports[\"FakeNews\"][\"y_true\"], reports[\"FakeNews\"][\"y_pred\"])\n",
    "\n",
    "display(mis_liar.head(5))"
   ]
  },
  {
   "cell_type": "markdown",
   "id": "a8c20fdd-e1e9-40de-9164-08109f31b7cb",
   "metadata": {},
   "source": [
    "## Step 9 — Consolidated Summary"
   ]
  },
  {
   "cell_type": "code",
   "execution_count": 11,
   "id": "617e83f6-e4f8-4e60-ae6a-f711f4b64398",
   "metadata": {},
   "outputs": [
    {
     "name": "stdout",
     "output_type": "stream",
     "text": [
      "=== Model Evaluation Summary ===\n"
     ]
    },
    {
     "data": {
      "text/html": [
       "<style type=\"text/css\">\n",
       "#T_f3530_row0_col1, #T_f3530_row0_col3 {\n",
       "  background-color: #b8d5ea;\n",
       "  color: #000000;\n",
       "}\n",
       "#T_f3530_row0_col2 {\n",
       "  background-color: #0f5aa3;\n",
       "  color: #f1f1f1;\n",
       "}\n",
       "#T_f3530_row0_col4 {\n",
       "  background-color: #f7fbff;\n",
       "  color: #000000;\n",
       "}\n",
       "#T_f3530_row1_col1, #T_f3530_row1_col3 {\n",
       "  background-color: #08519c;\n",
       "  color: #f1f1f1;\n",
       "}\n",
       "#T_f3530_row1_col2 {\n",
       "  background-color: #08306b;\n",
       "  color: #f1f1f1;\n",
       "}\n",
       "#T_f3530_row1_col4 {\n",
       "  background-color: #0b559f;\n",
       "  color: #f1f1f1;\n",
       "}\n",
       "</style>\n",
       "<table id=\"T_f3530\">\n",
       "  <thead>\n",
       "    <tr>\n",
       "      <th class=\"blank level0\" >&nbsp;</th>\n",
       "      <th id=\"T_f3530_level0_col0\" class=\"col_heading level0 col0\" >Dataset</th>\n",
       "      <th id=\"T_f3530_level0_col1\" class=\"col_heading level0 col1\" >Accuracy</th>\n",
       "      <th id=\"T_f3530_level0_col2\" class=\"col_heading level0 col2\" >Precision</th>\n",
       "      <th id=\"T_f3530_level0_col3\" class=\"col_heading level0 col3\" >Recall</th>\n",
       "      <th id=\"T_f3530_level0_col4\" class=\"col_heading level0 col4\" >F1</th>\n",
       "    </tr>\n",
       "  </thead>\n",
       "  <tbody>\n",
       "    <tr>\n",
       "      <th id=\"T_f3530_level0_row0\" class=\"row_heading level0 row0\" >0</th>\n",
       "      <td id=\"T_f3530_row0_col0\" class=\"data row0 col0\" >LIAR</td>\n",
       "      <td id=\"T_f3530_row0_col1\" class=\"data row0 col1\" >0.443124</td>\n",
       "      <td id=\"T_f3530_row0_col2\" class=\"data row0 col2\" >0.753502</td>\n",
       "      <td id=\"T_f3530_row0_col3\" class=\"data row0 col3\" >0.443124</td>\n",
       "      <td id=\"T_f3530_row0_col4\" class=\"data row0 col4\" >0.273116</td>\n",
       "    </tr>\n",
       "    <tr>\n",
       "      <th id=\"T_f3530_level0_row1\" class=\"row_heading level0 row1\" >1</th>\n",
       "      <td id=\"T_f3530_row1_col0\" class=\"data row1 col0\" >FakeNews</td>\n",
       "      <td id=\"T_f3530_row1_col1\" class=\"data row1 col1\" >0.772885</td>\n",
       "      <td id=\"T_f3530_row1_col2\" class=\"data row1 col2\" >0.845835</td>\n",
       "      <td id=\"T_f3530_row1_col3\" class=\"data row1 col3\" >0.772885</td>\n",
       "      <td id=\"T_f3530_row1_col4\" class=\"data row1 col4\" >0.763264</td>\n",
       "    </tr>\n",
       "  </tbody>\n",
       "</table>\n"
      ],
      "text/plain": [
       "<pandas.io.formats.style.Styler at 0x1461b4d33670>"
      ]
     },
     "metadata": {},
     "output_type": "display_data"
    },
    {
     "name": "stdout",
     "output_type": "stream",
     "text": [
      "\n",
      "Best Checkpoint → /gpfs/home/ashwin/FakeNews-Detection/models/roberta_lora_multidomain_best\n"
     ]
    }
   ],
   "source": [
    "print(\"=== Model Evaluation Summary ===\")\n",
    "display(summary_df.style.background_gradient(cmap=\"Blues\", axis=None))\n",
    "\n",
    "print(\"\\nBest Checkpoint →\", CKPT_PATH)"
   ]
  }
 ],
 "metadata": {
  "kernelspec": {
   "display_name": "Python 3 (ipykernel)",
   "language": "python",
   "name": "python3"
  },
  "language_info": {
   "codemirror_mode": {
    "name": "ipython",
    "version": 3
   },
   "file_extension": ".py",
   "mimetype": "text/x-python",
   "name": "python",
   "nbconvert_exporter": "python",
   "pygments_lexer": "ipython3",
   "version": "3.8.16"
  }
 },
 "nbformat": 4,
 "nbformat_minor": 5
}

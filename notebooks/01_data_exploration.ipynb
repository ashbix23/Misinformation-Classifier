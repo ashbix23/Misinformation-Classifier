{
 "cells": [
  {
   "cell_type": "markdown",
   "id": "eb8a2097-6599-4400-9f75-c2c45b4823de",
   "metadata": {},
   "source": [
    "# Fake News Detection — Dataset Exploration\n",
    "\n",
    "This notebook performs an initial exploratory analysis of the datasets used for our **Fake News Detection** project.  \n",
    "We aim to:\n",
    "- Verify dataset integrity and structure.  \n",
    "- Examine class balance (fake vs real).  \n",
    "- Analyze text lengths, duplicates, and potential noise.  \n",
    "- Prepare clean summary statistics before model training.\n",
    "\n",
    "**Datasets explored:**\n",
    "1. **LIAR Dataset** — short political statements with graded truth labels.  \n",
    "2. **FakeNews-Kaggle (Clément Bisaillon)** — long-form news articles labeled as *Fake* or *True*.  \n",
    "\n",
    "These datasets together cover both *short factual claims* and *long editorial articles*, providing balanced coverage for model generalization."
   ]
  },
  {
   "cell_type": "code",
   "execution_count": 1,
   "id": "dec06366-6e62-450e-a40b-c3506e27d851",
   "metadata": {},
   "outputs": [
    {
     "name": "stdout",
     "output_type": "stream",
     "text": [
      "Using data directory: /Users/ashwinb/Desktop/GitFolio/FakeNews-Detection/data/processed\n"
     ]
    }
   ],
   "source": [
    "import os\n",
    "import sys\n",
    "sys.path.append(os.path.abspath(os.path.join(os.getcwd(), \"..\")))\n",
    "import pandas as pd\n",
    "import matplotlib.pyplot as plt\n",
    "import seaborn as sns\n",
    "from src.data.preprocess import clean_text\n",
    "from src.data.fetch_datasets import main as fetch_data\n",
    "\n",
    "# Display settings\n",
    "pd.set_option(\"display.max_colwidth\", 150)\n",
    "plt.style.use(\"seaborn-v0_8-muted\")\n",
    "\n",
    "DATA_DIR = os.path.abspath(os.path.join(os.getcwd(), \"..\", \"data\", \"processed\"))\n",
    "os.makedirs(DATA_DIR, exist_ok=True)\n",
    "\n",
    "print(f\"Using data directory: {DATA_DIR}\")"
   ]
  },
  {
   "cell_type": "markdown",
   "id": "40722939-dad9-46dd-ba5c-222466accd3d",
   "metadata": {},
   "source": [
    "## Step 1 — Verify Dataset Availability\n",
    "\n",
    "Before running any analysis, we ensure that all processed datasets exist locally.  \n",
    "If not found, they are automatically downloaded and preprocessed using `fetch_datasets.py`."
   ]
  },
  {
   "cell_type": "code",
   "execution_count": 3,
   "id": "cc0b9a2e-cf82-4230-8746-219e9fe83c56",
   "metadata": {},
   "outputs": [
    {
     "name": "stdout",
     "output_type": "stream",
     "text": [
      "=== Downloading and Preparing Datasets ===\n",
      "[↓] Downloading liar_dataset.zip ...\n",
      "[✓] Saved data/processed/liar_dataset.zip\n",
      "[✓] LIAR processed and cleaned.\n",
      "[↓] Downloading FakeNews dataset from Kaggle (clmentbisaillon/fake-and-real-news-dataset)...\n",
      "Dataset URL: https://www.kaggle.com/datasets/clmentbisaillon/fake-and-real-news-dataset\n",
      "[✓] FakeNews-Kaggle processed and saved → data/processed/processed_FakeNews.csv\n",
      "=== All datasets ready in data/processed/ ===\n"
     ]
    }
   ],
   "source": [
    "fetch_data()\n",
    "\n",
    "datasets = {\n",
    "    \"LIAR\": os.path.join(DATA_DIR, \"processed_LIAR.csv\"),\n",
    "    \"FakeNews\": os.path.join(DATA_DIR, \"processed_FakeNews.csv\"),\n",
    "}"
   ]
  },
  {
   "cell_type": "markdown",
   "id": "ff94ea9b-ef27-4ca5-a2c4-3a74b7120d92",
   "metadata": {},
   "source": [
    "## Step 2 — Load and Inspect Basic Structure\n",
    "\n",
    "We’ll load each dataset and display:\n",
    "- Total number of records  \n",
    "- Column names  \n",
    "- Sample entries  \n",
    "\n",
    "This helps confirm that preprocessing produced consistent columns:  \n",
    "`title`, `text`, `label`"
   ]
  },
  {
   "cell_type": "code",
   "execution_count": 5,
   "id": "f8def170-9512-4ae3-bbf5-e935ebb13d83",
   "metadata": {},
   "outputs": [
    {
     "name": "stdout",
     "output_type": "stream",
     "text": [
      "\n",
      "=== LIAR ===\n",
      "Records: 12,791\n",
      "Columns: ['title', 'text', 'label']\n"
     ]
    },
    {
     "data": {
      "text/html": [
       "<div>\n",
       "<style scoped>\n",
       "    .dataframe tbody tr th:only-of-type {\n",
       "        vertical-align: middle;\n",
       "    }\n",
       "\n",
       "    .dataframe tbody tr th {\n",
       "        vertical-align: top;\n",
       "    }\n",
       "\n",
       "    .dataframe thead th {\n",
       "        text-align: right;\n",
       "    }\n",
       "</style>\n",
       "<table border=\"1\" class=\"dataframe\">\n",
       "  <thead>\n",
       "    <tr style=\"text-align: right;\">\n",
       "      <th></th>\n",
       "      <th>title</th>\n",
       "      <th>text</th>\n",
       "      <th>label</th>\n",
       "    </tr>\n",
       "  </thead>\n",
       "  <tbody>\n",
       "    <tr>\n",
       "      <th>0</th>\n",
       "      <td>abortion</td>\n",
       "      <td>Says the Annies List political group supports third-trimester abortions on demand.</td>\n",
       "      <td>1</td>\n",
       "    </tr>\n",
       "    <tr>\n",
       "      <th>1</th>\n",
       "      <td>energy,history,job-accomplishments</td>\n",
       "      <td>When did the decline of coal start? It started when natural gas took off that started to begin in (President George W.) Bushs administration.</td>\n",
       "      <td>0</td>\n",
       "    </tr>\n",
       "  </tbody>\n",
       "</table>\n",
       "</div>"
      ],
      "text/plain": [
       "                                title  \\\n",
       "0                            abortion   \n",
       "1  energy,history,job-accomplishments   \n",
       "\n",
       "                                                                                                                                            text  \\\n",
       "0                                                             Says the Annies List political group supports third-trimester abortions on demand.   \n",
       "1  When did the decline of coal start? It started when natural gas took off that started to begin in (President George W.) Bushs administration.   \n",
       "\n",
       "   label  \n",
       "0      1  \n",
       "1      0  "
      ]
     },
     "metadata": {},
     "output_type": "display_data"
    },
    {
     "name": "stdout",
     "output_type": "stream",
     "text": [
      "\n",
      "=== FakeNews ===\n",
      "Records: 44,898\n",
      "Columns: ['title', 'text', 'label']\n"
     ]
    },
    {
     "data": {
      "text/html": [
       "<div>\n",
       "<style scoped>\n",
       "    .dataframe tbody tr th:only-of-type {\n",
       "        vertical-align: middle;\n",
       "    }\n",
       "\n",
       "    .dataframe tbody tr th {\n",
       "        vertical-align: top;\n",
       "    }\n",
       "\n",
       "    .dataframe thead th {\n",
       "        text-align: right;\n",
       "    }\n",
       "</style>\n",
       "<table border=\"1\" class=\"dataframe\">\n",
       "  <thead>\n",
       "    <tr style=\"text-align: right;\">\n",
       "      <th></th>\n",
       "      <th>title</th>\n",
       "      <th>text</th>\n",
       "      <th>label</th>\n",
       "    </tr>\n",
       "  </thead>\n",
       "  <tbody>\n",
       "    <tr>\n",
       "      <th>0</th>\n",
       "      <td>Donald Trump Sends Out Embarrassing New Year’s Eve Message; This is Disturbing</td>\n",
       "      <td>Donald Trump just couldn t wish all Americans a Happy New Year and leave it at that. Instead, he had to give a shout out to his enemies, haters an...</td>\n",
       "      <td>1</td>\n",
       "    </tr>\n",
       "    <tr>\n",
       "      <th>1</th>\n",
       "      <td>Drunk Bragging Trump Staffer Started Russian Collusion Investigation</td>\n",
       "      <td>House Intelligence Committee Chairman Devin Nunes is going to have a bad day. He s been under the assumption, like many of us, that the Christophe...</td>\n",
       "      <td>1</td>\n",
       "    </tr>\n",
       "  </tbody>\n",
       "</table>\n",
       "</div>"
      ],
      "text/plain": [
       "                                                                             title  \\\n",
       "0   Donald Trump Sends Out Embarrassing New Year’s Eve Message; This is Disturbing   \n",
       "1             Drunk Bragging Trump Staffer Started Russian Collusion Investigation   \n",
       "\n",
       "                                                                                                                                                    text  \\\n",
       "0  Donald Trump just couldn t wish all Americans a Happy New Year and leave it at that. Instead, he had to give a shout out to his enemies, haters an...   \n",
       "1  House Intelligence Committee Chairman Devin Nunes is going to have a bad day. He s been under the assumption, like many of us, that the Christophe...   \n",
       "\n",
       "   label  \n",
       "0      1  \n",
       "1      1  "
      ]
     },
     "metadata": {},
     "output_type": "display_data"
    }
   ],
   "source": [
    "for name, path in datasets.items():\n",
    "    if os.path.exists(path):\n",
    "        df = pd.read_csv(path)\n",
    "        print(f\"\\n=== {name} ===\")\n",
    "        print(f\"Records: {len(df):,}\")\n",
    "        print(f\"Columns: {list(df.columns)}\")\n",
    "        display(df.head(2))\n",
    "    else:\n",
    "        print(f\"[!] Dataset not found: {path}\")"
   ]
  },
  {
   "cell_type": "markdown",
   "id": "103b5f8a-9f09-4d88-aae2-ff4f309bf390",
   "metadata": {},
   "source": [
    "## Step 3 — Check Missing Values and Label Distribution\n",
    "\n",
    "We check for:\n",
    "- Missing values in key columns (`title`, `text`, `label`)  \n",
    "- Unique label values and class balance (fake vs real)  \n",
    "\n",
    "This helps identify data issues before training and informs if we need resampling."
   ]
  },
  {
   "cell_type": "code",
   "execution_count": 7,
   "id": "c9f37500-1ca4-43d7-b204-1ec8688a06de",
   "metadata": {},
   "outputs": [
    {
     "name": "stdout",
     "output_type": "stream",
     "text": [
      "\n",
      "LIAR — Missing Values Summary:\n",
      "title    2\n",
      "text     0\n",
      "label    0\n",
      "dtype: int64\n",
      "Unique Labels: [1 0]\n",
      "\n",
      "FakeNews — Missing Values Summary:\n",
      "title    0\n",
      "text     0\n",
      "label    0\n",
      "dtype: int64\n",
      "Unique Labels: [1 0]\n"
     ]
    }
   ],
   "source": [
    "for name, path in datasets.items():\n",
    "    df = pd.read_csv(path)\n",
    "    print(f\"\\n{name} — Missing Values Summary:\")\n",
    "    print(df.isnull().sum())\n",
    "    print(f\"Unique Labels: {df['label'].unique()}\")"
   ]
  },
  {
   "cell_type": "markdown",
   "id": "546a24a0-1c5a-4c57-869b-1ad7eba29782",
   "metadata": {},
   "source": [
    "## Step 4 — Visualize Class Balance\n",
    "\n",
    "Class imbalance can bias models toward the majority class.  \n",
    "We visualize fake vs real distribution for both datasets."
   ]
  },
  {
   "cell_type": "code",
   "execution_count": 9,
   "id": "853fb8f6-1edb-4f54-bc4e-084e0c705a4d",
   "metadata": {},
   "outputs": [
    {
     "name": "stderr",
     "output_type": "stream",
     "text": [
      "/var/folders/0l/9ky9d9611n77jf_7d5h_njy80000gn/T/ipykernel_25140/2497962743.py:4: FutureWarning: \n",
      "\n",
      "Passing `palette` without assigning `hue` is deprecated and will be removed in v0.14.0. Assign the `x` variable to `hue` and set `legend=False` for the same effect.\n",
      "\n",
      "  sns.countplot(x=\"label\", data=df, ax=ax, palette=\"muted\")\n",
      "/var/folders/0l/9ky9d9611n77jf_7d5h_njy80000gn/T/ipykernel_25140/2497962743.py:6: UserWarning: set_ticklabels() should only be used with a fixed number of ticks, i.e. after set_ticks() or using a FixedLocator.\n",
      "  ax.set_xticklabels([\"Real (0)\", \"Fake (1)\"])\n",
      "/var/folders/0l/9ky9d9611n77jf_7d5h_njy80000gn/T/ipykernel_25140/2497962743.py:4: FutureWarning: \n",
      "\n",
      "Passing `palette` without assigning `hue` is deprecated and will be removed in v0.14.0. Assign the `x` variable to `hue` and set `legend=False` for the same effect.\n",
      "\n",
      "  sns.countplot(x=\"label\", data=df, ax=ax, palette=\"muted\")\n",
      "/var/folders/0l/9ky9d9611n77jf_7d5h_njy80000gn/T/ipykernel_25140/2497962743.py:6: UserWarning: set_ticklabels() should only be used with a fixed number of ticks, i.e. after set_ticks() or using a FixedLocator.\n",
      "  ax.set_xticklabels([\"Real (0)\", \"Fake (1)\"])\n"
     ]
    },
    {
     "data": {
      "image/png": "[encoded data removed]",
      "text/plain": [
       "<Figure size 1000x400 with 2 Axes>"
      ]
     },
     "metadata": {},
     "output_type": "display_data"
    }
   ],
   "source": [
    "fig, axes = plt.subplots(1, 2, figsize=(10, 4))\n",
    "for ax, (name, path) in zip(axes, datasets.items()):\n",
    "    df = pd.read_csv(path)\n",
    "    sns.countplot(x=\"label\", data=df, ax=ax, palette=\"muted\")\n",
    "    ax.set_title(f\"{name} Label Distribution\")\n",
    "    ax.set_xticklabels([\"Real (0)\", \"Fake (1)\"])\n",
    "plt.tight_layout()\n",
    "plt.show()"
   ]
  },
  {
   "cell_type": "markdown",
   "id": "9e109934-1342-41e0-a2a2-25bccec5828e",
   "metadata": {},
   "source": [
    "## Step 5 — Duplicate Check and Text Length Distribution\n",
    "\n",
    "Duplicates and extreme text lengths can distort model training.  \n",
    "We measure:\n",
    "- Duplicate ratio (same title/text pairs).  \n",
    "- Distribution of article/text lengths."
   ]
  },
  {
   "cell_type": "code",
   "execution_count": 11,
   "id": "90a81adf-e3fa-4b0a-bd52-61a9ac2671fe",
   "metadata": {},
   "outputs": [
    {
     "name": "stdout",
     "output_type": "stream",
     "text": [
      "\n",
      "LIAR: Duplicate rows: 0.11% | Avg length: 107.2\n"
     ]
    },
    {
     "data": {
      "image/png": "[encoded data removed]",
      "text/plain": [
       "<Figure size 640x480 with 1 Axes>"
      ]
     },
     "metadata": {},
     "output_type": "display_data"
    },
    {
     "name": "stdout",
     "output_type": "stream",
     "text": [
      "\n",
      "FakeNews: Duplicate rows: 12.90% | Avg length: 2469.1\n"
     ]
    },
    {
     "data": {
      "image/png": "[encoded data removed]",
      "text/plain": [
       "<Figure size 640x480 with 1 Axes>"
      ]
     },
     "metadata": {},
     "output_type": "display_data"
    }
   ],
   "source": [
    "for name, path in datasets.items():\n",
    "    df = pd.read_csv(path)\n",
    "    dup_ratio = df.duplicated(subset=[\"title\", \"text\"]).mean() * 100\n",
    "    df[\"text_len\"] = df[\"text\"].astype(str).apply(len)\n",
    "    print(f\"\\n{name}: Duplicate rows: {dup_ratio:.2f}% | Avg length: {df['text_len'].mean():.1f}\")\n",
    "\n",
    "    sns.histplot(df[\"text_len\"], bins=50, kde=False)\n",
    "    plt.title(f\"{name} — Text Length Distribution\")\n",
    "    plt.xlabel(\"Text Length (characters)\")\n",
    "    plt.ylabel(\"Count\")\n",
    "    plt.show()"
   ]
  },
  {
   "cell_type": "markdown",
   "id": "4cdadc1d-688b-4357-b7a8-38980ac66f8b",
   "metadata": {},
   "source": [
    "## Step 6 — Sample Review\n",
    "\n",
    "Let’s review random samples from each dataset to qualitatively confirm label relevance and text clarity."
   ]
  },
  {
   "cell_type": "code",
   "execution_count": 12,
   "id": "43f4ebee-cbab-4cab-aaac-65472dcb1edf",
   "metadata": {},
   "outputs": [
    {
     "name": "stdout",
     "output_type": "stream",
     "text": [
      "\n",
      "=== LIAR ===\n",
      "[FAKE] foreign-policy,military\n",
      "In the event of a U.S. strike on Syria, the Russians will replace the weapons immediately. Theyve said it on the record. Theyve suggested they might even replace it with better stuff....\n",
      "\n",
      "[REAL] economy,stimulus\n",
      "To give the proposed economic stimulus plan some perspective, \"if you started the day Jesus Christ was born and spent $1 million every day since then, you still wouldnt have spent $1 trillion.\"...\n",
      "\n",
      "[FAKE] space,weather\n",
      "Its warmer on Mars than it is in parts of the United States and Canada during the polar vortex....\n",
      "\n",
      "\n",
      "=== FakeNews ===\n",
      "[FAKE] Ben Stein Calls Out 9th Circuit Court: Committed a ‘Coup d’état’ Against the Constitution\n",
      "21st Century Wire says Ben Stein, reputable professor from, Pepperdine University (also of some Hollywood fame appearing in TV shows and films such as Ferris Bueller s Day Off) made some provocative statements on Judge Jeanine Pirro s show recently. While discussing the halt that was imposed on Pres...\n",
      "\n",
      "[REAL] Trump drops Steve Bannon from National Security Council\n",
      "WASHINGTON (Reuters) - U.S. President Donald Trump removed his chief strategist Steve Bannon from the National Security Council on Wednesday, reversing his controversial decision early this year to give a political adviser an unprecedented role in security discussions. Trump’s overhaul of the NSC, c...\n",
      "\n",
      "[REAL] Puerto Rico expects U.S. to lift Jones Act shipping restrictions\n",
      "(Reuters) - Puerto Rico Governor Ricardo Rossello said on Wednesday he expected the federal government to waive the Jones Act, which would lift restrictions on ships that can provide aid to the island devastated by Hurricane Maria. He said he has been speaking with members of Congress from both part...\n",
      "\n"
     ]
    }
   ],
   "source": [
    "for name, path in datasets.items():\n",
    "    df = pd.read_csv(path)\n",
    "    sample = df.sample(3, random_state=42)\n",
    "    print(f\"\\n=== {name} ===\")\n",
    "    for _, row in sample.iterrows():\n",
    "        label = \"FAKE\" if row[\"label\"] == 1 else \"REAL\"\n",
    "        print(f\"[{label}] {row['title']}\")\n",
    "        print(f\"{row['text'][:300]}...\\n\")"
   ]
  },
  {
   "cell_type": "markdown",
   "id": "03a5a696-125a-48ca-b2c2-4c3f7bc241c6",
   "metadata": {},
   "source": [
    "## Step 7 — Dataset Summary Export\n",
    "\n",
    "We compile a concise summary file for downstream reference (used in model training and report generation)."
   ]
  },
  {
   "cell_type": "code",
   "execution_count": 15,
   "id": "e5aca2e7-5536-4213-8ae5-f0b9cf751302",
   "metadata": {},
   "outputs": [
    {
     "data": {
      "text/html": [
       "<div>\n",
       "<style scoped>\n",
       "    .dataframe tbody tr th:only-of-type {\n",
       "        vertical-align: middle;\n",
       "    }\n",
       "\n",
       "    .dataframe tbody tr th {\n",
       "        vertical-align: top;\n",
       "    }\n",
       "\n",
       "    .dataframe thead th {\n",
       "        text-align: right;\n",
       "    }\n",
       "</style>\n",
       "<table border=\"1\" class=\"dataframe\">\n",
       "  <thead>\n",
       "    <tr style=\"text-align: right;\">\n",
       "      <th></th>\n",
       "      <th>Dataset</th>\n",
       "      <th>Records</th>\n",
       "      <th>Fake (1)</th>\n",
       "      <th>Real (0)</th>\n",
       "      <th>Duplicate %</th>\n",
       "      <th>Avg Text Length</th>\n",
       "    </tr>\n",
       "  </thead>\n",
       "  <tbody>\n",
       "    <tr>\n",
       "      <th>0</th>\n",
       "      <td>LIAR</td>\n",
       "      <td>12791</td>\n",
       "      <td>5657</td>\n",
       "      <td>7134</td>\n",
       "      <td>0.11</td>\n",
       "      <td>107.2</td>\n",
       "    </tr>\n",
       "    <tr>\n",
       "      <th>1</th>\n",
       "      <td>FakeNews</td>\n",
       "      <td>44898</td>\n",
       "      <td>23481</td>\n",
       "      <td>21417</td>\n",
       "      <td>12.90</td>\n",
       "      <td>2469.1</td>\n",
       "    </tr>\n",
       "  </tbody>\n",
       "</table>\n",
       "</div>"
      ],
      "text/plain": [
       "    Dataset  Records  Fake (1)  Real (0)  Duplicate %  Avg Text Length\n",
       "0      LIAR    12791      5657      7134         0.11            107.2\n",
       "1  FakeNews    44898     23481     21417        12.90           2469.1"
      ]
     },
     "metadata": {},
     "output_type": "display_data"
    },
    {
     "name": "stdout",
     "output_type": "stream",
     "text": [
      "Summary saved → data/processed/dataset_summary.csv\n"
     ]
    }
   ],
   "source": [
    "summary = []\n",
    "for name, path in datasets.items():\n",
    "    df = pd.read_csv(path)\n",
    "    summary.append({\n",
    "        \"Dataset\": name,\n",
    "        \"Records\": len(df),\n",
    "        \"Fake (1)\": int((df[\"label\"] == 1).sum()),\n",
    "        \"Real (0)\": int((df[\"label\"] == 0).sum()),\n",
    "        \"Duplicate %\": round(df.duplicated(subset=[\"title\", \"text\"]).mean() * 100, 2),\n",
    "        \"Avg Text Length\": round(df[\"text\"].astype(str).apply(len).mean(), 1)\n",
    "    })\n",
    "\n",
    "summary_df = pd.DataFrame(summary)\n",
    "display(summary_df)\n",
    "summary_df.to_csv(os.path.join(DATA_DIR, \"dataset_summary.csv\"), index=False)\n",
    "print(\"Summary saved → data/processed/dataset_summary.csv\")"
   ]
  },
  {
   "cell_type": "markdown",
   "id": "fdd4e7dc-48ff-4559-be50-f40f7e7dd467",
   "metadata": {},
   "source": [
    "### **Conclusions**\n",
    "\n",
    "- **Both datasets** are properly formatted with consistent `title`, `text`, and `label` columns.  \n",
    "- **LIAR** consists of *short factual claims* (average 107 characters) — ideal for fine-grained truth detection.  \n",
    "- **FakeNews-Kaggle** consists of *long-form articles* (average 2,469 characters) — suitable for contextual semantic understanding.  \n",
    "- **Balanced distributions:** both datasets show healthy representation across classes (fake vs real).  \n",
    "- **Low duplication:** under 0.1% in LIAR and moderate 12.9% in FakeNews, mostly due to syndicated content.  \n",
    "- **Clean, diverse data:** ready for transformer-based fine-tuning using LoRA-RoBERTa or Phi-2.\n"
   ]
  }
 ],
 "metadata": {
  "kernelspec": {
   "display_name": "Python 3 (ipykernel)",
   "language": "python",
   "name": "python3"
  },
  "language_info": {
   "codemirror_mode": {
    "name": "ipython",
    "version": 3
   },
   "file_extension": ".py",
   "mimetype": "text/x-python",
   "name": "python",
   "nbconvert_exporter": "python",
   "pygments_lexer": "ipython3",
   "version": "3.8.16"
  }
 },
 "nbformat": 4,
 "nbformat_minor": 5
}
